{
 "cells": [
  {
   "cell_type": "code",
   "execution_count": 54,
   "id": "aba901cf",
   "metadata": {},
   "outputs": [],
   "source": [
    "!pip install -Uqq fastbook &>/dev/null\n",
    "import fastbook\n",
    "fastbook.setup_book()\n",
    "from fastbook import *\n",
    "from fastai.vision.widgets import *\n",
    "from fastbook import load_learner"
   ]
  },
  {
   "cell_type": "code",
   "execution_count": 2,
   "id": "e646a07a",
   "metadata": {},
   "outputs": [],
   "source": [
    "beatlesLearn = load_learner('/Users/mackenziegillis/Desktop/export.pkl')\n"
   ]
  },
  {
   "cell_type": "code",
   "execution_count": 11,
   "id": "241313da",
   "metadata": {},
   "outputs": [],
   "source": [
    "#beatlesLearn.predict('/Users/mackenziegillis/Desktop/paul.jpg')\n"
   ]
  },
  {
   "cell_type": "code",
   "execution_count": 21,
   "id": "8c5f3e8d",
   "metadata": {},
   "outputs": [],
   "source": [
    "uploadButton = widgets.FileUpload()\n"
   ]
  },
  {
   "cell_type": "code",
   "execution_count": 22,
   "id": "dd445798",
   "metadata": {},
   "outputs": [],
   "source": [
    "#image = PILImage.create(uploadButton.data[-1])\n",
    "output = widgets.Output()\n",
    "output.clear_output()\n",
    "#with output: display(image.to_thumb(128,128))\n"
   ]
  },
  {
   "cell_type": "code",
   "execution_count": 41,
   "id": "8621e4e7",
   "metadata": {},
   "outputs": [],
   "source": [
    "#prediction, predictionIndex, probabilities = beatlesLearn.predict(image)\n",
    "predictionLabel = widgets.Label()\n",
    "#predictionLabel.value = f'Prediction: {prediction}; Probability: {probabilities[predictionIndex]:.04f}'\n"
   ]
  },
  {
   "cell_type": "code",
   "execution_count": 42,
   "id": "dbc5c92f",
   "metadata": {},
   "outputs": [],
   "source": [
    "run = widgets.Button(description= 'Classify')"
   ]
  },
  {
   "cell_type": "code",
   "execution_count": 47,
   "id": "70b5ec49",
   "metadata": {},
   "outputs": [],
   "source": [
    "def classify(change):\n",
    "    img = PILImage.create(uploadButton.data[-1])\n",
    "    output.clear_output()\n",
    "    with output: display(img.to_thumb(128,128))\n",
    "    pred, pred_idx,probs = beatlesLearn.predict(img)\n",
    "    predictionLabel.value = f'Prediction: {pred}; Probability: {probs[pred_idx]:.04f}'\n",
    "run.on_click(classify)"
   ]
  },
  {
   "cell_type": "code",
   "execution_count": 48,
   "id": "3ee01464",
   "metadata": {},
   "outputs": [
    {
     "data": {
      "application/vnd.jupyter.widget-view+json": {
       "model_id": "f786de907d6541c19859c16393caa189",
       "version_major": 2,
       "version_minor": 0
      },
      "text/plain": [
       "VBox(children=(Label(value='Which Beatle are you?'), FileUpload(value={'dad.jpeg': {'metadata': {'name': 'dad.…"
      ]
     },
     "metadata": {},
     "output_type": "display_data"
    }
   ],
   "source": [
    "VBox([widgets.Label('Which Beatle are you?'),\n",
    "     uploadButton,run,output,predictionLabel])"
   ]
  },
  {
   "cell_type": "code",
   "execution_count": 55,
   "id": "84019884",
   "metadata": {},
   "outputs": [],
   "source": [
    "!pip3 install voila -q &>/dev/null\n",
    "!jupyter serverextension enable voila --sys-prefix --log-level=0 &>/dev/null\n"
   ]
  },
  {
   "cell_type": "code",
   "execution_count": null,
   "id": "cad36469",
   "metadata": {},
   "outputs": [],
   "source": []
  }
 ],
 "metadata": {
  "kernelspec": {
   "display_name": "Python 3 (ipykernel)",
   "language": "python",
   "name": "python3"
  },
  "language_info": {
   "codemirror_mode": {
    "name": "ipython",
    "version": 3
   },
   "file_extension": ".py",
   "mimetype": "text/x-python",
   "name": "python",
   "nbconvert_exporter": "python",
   "pygments_lexer": "ipython3",
   "version": "3.7.7"
  }
 },
 "nbformat": 4,
 "nbformat_minor": 5
}
